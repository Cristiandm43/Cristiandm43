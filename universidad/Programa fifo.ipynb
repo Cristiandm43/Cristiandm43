{
  "cells": [
    {
      "cell_type": "markdown",
      "metadata": {
        "id": "KIjU4dkcPNfX"
      },
      "source": [
        "## ***Programa algoritmo fifo***\n",
        "\n",
        "---\n",
        "\n",
        "\n",
        "\n",
        "---\n",
        "\n"
      ]
    },
    {
      "cell_type": "markdown",
      "metadata": {
        "id": "5NuMxAcPSPSY"
      },
      "source": [
        "\n",
        "# Programa algoritmo FiFo"
      ]
    },
    {
      "cell_type": "markdown",
      "metadata": {
        "id": "nub9fDwhOyTp"
      },
      "source": [
        "Empezamos definiendo la clase FIFO que contiene los métodos necesarios para implementar el algoritmo FIFO:"
      ]
    },
    {
      "cell_type": "code",
      "execution_count": 9,
      "metadata": {
        "id": "Iw-2KvwvOwgQ"
      },
      "outputs": [],
      "source": [
        "class FIFO:\n",
        "    def __init__(self):\n",
        "        self.queue = []\n",
        "        \n",
        "    def enqueue(self, item):\n",
        "        self.queue.append(item)\n",
        "        \n",
        "    def dequeue(self):\n",
        "        if len(self.queue) > 0:\n",
        "            return self.queue.pop(0)\n",
        "        else:\n",
        "            return None\n",
        "        \n",
        "    def is_empty(self):\n",
        "        return len(self.queue) == 0\n",
        "        \n",
        "    def size(self):\n",
        "        return len(self.queue)"
      ]
    },
    {
      "cell_type": "markdown",
      "metadata": {
        "id": "mEEdU4uOP2My"
      },
      "source": [
        "La clase FIFO tiene cuatro métodos:\n",
        "\n",
        "El método __init__ se ejecuta cuando se crea una nueva instancia de la clase y crea una lista vacía.\n",
        "El método enqueue agrega un nuevo elemento al final de la lista.\n",
        "El método dequeue elimina el primer elemento de la lista y lo devuelve. Si la lista está vacía, devuelve None.\n",
        "El método is_empty devuelve True si la lista está vacía y False en caso contrario.\n",
        "El método size devuelve la cantidad de elementos en la lista.\n",
        "Una vez que hemos definido la clase FIFO, podemos crear una instancia y agregar algunos elementos a la lista:"
      ]
    },
    {
      "cell_type": "code",
      "execution_count": 10,
      "metadata": {
        "id": "v4XxlXZbPDi_"
      },
      "outputs": [],
      "source": [
        "fifo = FIFO()\n",
        "fifo.enqueue(\"A\")\n",
        "fifo.enqueue(\"B\")\n",
        "fifo.enqueue(\"C\")"
      ]
    },
    {
      "cell_type": "markdown",
      "metadata": {
        "id": "3v6yvRmOQDu9"
      },
      "source": [
        "En este ejemplo, agregamos tres elementos a la lista FIFO.\n",
        "\n",
        "A continuación, podemos eliminar los elementos de la lista FIFO utilizando el método dequeue y mostrarlos por consola:\n",
        "\n"
      ]
    },
    {
      "cell_type": "code",
      "execution_count": 11,
      "metadata": {
        "colab": {
          "base_uri": "https://localhost:8080/"
        },
        "id": "_QDngrHIQRaU",
        "outputId": "6f9a9ba4-50e7-43a0-a583-e0ccf91aed45"
      },
      "outputs": [
        {
          "name": "stdout",
          "output_type": "stream",
          "text": [
            "A\n",
            "B\n",
            "C\n"
          ]
        }
      ],
      "source": [
        "while not fifo.is_empty():\n",
        "    print(fifo.dequeue())"
      ]
    },
    {
      "cell_type": "markdown",
      "metadata": {
        "id": "5tDt7SjFRwLj"
      },
      "source": [
        "Este bucle elimina elementos de la lista FIFO hasta que está vacía. El método dequeue devuelve el primer elemento de la lista y lo elimina. En este caso, mostramos cada elemento por consola en el orden en que se agregaron a la lista FIFO.\n",
        "\n",
        "El resultado final del programa debería verse así:\n",
        "\n",
        "---\n",
        "\n",
        "\n",
        "\n",
        "A\n",
        "\n",
        "B\n",
        "\n",
        "C\n",
        "\n",
        "\n",
        "---\n",
        "\n",
        "\n",
        "Lo que significa que los elementos fueron eliminados en orden FIFO (primero en entrar, primero en salir)."
      ]
    }
  ],
  "metadata": {
    "colab": {
      "provenance": [],
      "toc_visible": true
    },
    "kernelspec": {
      "display_name": "Python 3",
      "language": "python",
      "name": "python3"
    },
    "language_info": {
      "codemirror_mode": {
        "name": "ipython",
        "version": 3
      },
      "file_extension": ".py",
      "mimetype": "text/x-python",
      "name": "python",
      "nbconvert_exporter": "python",
      "pygments_lexer": "ipython3",
      "version": "3.10.10"
    },
    "vscode": {
      "interpreter": {
        "hash": "05573c2100ea5736cb8e2e30642731233b96d2a6612975d5bb9723a23aee8ec2"
      }
    }
  },
  "nbformat": 4,
  "nbformat_minor": 0
}
